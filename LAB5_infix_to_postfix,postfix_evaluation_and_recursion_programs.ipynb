{
  "nbformat": 4,
  "nbformat_minor": 0,
  "metadata": {
    "colab": {
      "provenance": []
    },
    "kernelspec": {
      "name": "python3",
      "display_name": "Python 3"
    },
    "language_info": {
      "name": "python"
    }
  },
  "cells": [
    {
      "cell_type": "code",
      "execution_count": 1,
      "metadata": {
        "colab": {
          "base_uri": "https://localhost:8080/"
        },
        "id": "E6NLn0Tp7kPq",
        "outputId": "3a5fca7a-eec0-43d3-da81-8dcfcfdc6d69"
      },
      "outputs": [
        {
          "output_type": "stream",
          "name": "stdout",
          "text": [
            "Infix Expression: (a+b)*c+d\n",
            "Postfix Expression: ab+c*d+\n"
          ]
        }
      ],
      "source": [
        "\n",
        "\n",
        "def is_operator(char):\n",
        "    return char in {'+', '-', '*', '/'}\n",
        "\n",
        "def precedence(operator):\n",
        "    if operator == '+' or operator == '-':\n",
        "        return 1\n",
        "    elif operator == '*' or operator == '/':\n",
        "        return 2\n",
        "    else:\n",
        "        return 0\n",
        "\n",
        "def infix_to_postfix(infix_expression):\n",
        "    stack = []\n",
        "    postfix_expression = []\n",
        "\n",
        "    for char in infix_expression:\n",
        "        if char.isalnum():\n",
        "\n",
        "            postfix_expression.append(char)\n",
        "        elif char == '(':\n",
        "\n",
        "            stack.append(char)\n",
        "        elif char == ')':\n",
        "\n",
        "\n",
        "            while stack and stack[-1] != '(':\n",
        "                postfix_expression.append(stack.pop())\n",
        "            stack.pop()\n",
        "        elif is_operator(char):\n",
        "\n",
        "            while stack and precedence(stack[-1]) >= precedence(char):\n",
        "                postfix_expression.append(stack.pop())\n",
        "            stack.append(char)\n",
        "\n",
        "\n",
        "    while stack:\n",
        "        postfix_expression.append(stack.pop())\n",
        "\n",
        "    return ''.join(postfix_expression)\n",
        "\n",
        "\n",
        "infix_expression = \"(a+b)*c+d\"\n",
        "postfix_expression = infix_to_postfix(infix_expression)\n",
        "print(\"Infix Expression:\", infix_expression)\n",
        "print(\"Postfix Expression:\", postfix_expression)\n"
      ]
    },
    {
      "cell_type": "code",
      "source": [
        "#postfix evaluation\n",
        "def is_operand(char):\n",
        "    return char.isalnum()\n",
        "\n",
        "def evaluate_postfix(postfix_expression):\n",
        "    stack = []\n",
        "\n",
        "    for char in postfix_expression:\n",
        "        if is_operand(char):\n",
        "\n",
        "            stack.append(float(char))\n",
        "        else:\n",
        "\n",
        "\n",
        "            operand2 = stack.pop()\n",
        "            operand1 = stack.pop()\n",
        "\n",
        "            if char == '+':\n",
        "                result = operand1 + operand2\n",
        "            elif char == '-':\n",
        "                result = operand1 - operand2\n",
        "            elif char == '*':\n",
        "                result = operand1 * operand2\n",
        "            elif char == '/':\n",
        "                result = operand1 / operand2\n",
        "\n",
        "            stack.append(result)\n",
        "\n",
        "\n",
        "    return stack.pop()\n",
        "\n",
        "# Example usage:\n",
        "postfix_expression = \"34+5*6-\"\n",
        "result = evaluate_postfix(postfix_expression)\n",
        "print(\"Postfix Expression:\", postfix_expression)\n",
        "print(\"Result:\", result)\n"
      ],
      "metadata": {
        "colab": {
          "base_uri": "https://localhost:8080/"
        },
        "id": "kXzAFWvV8Sc0",
        "outputId": "c6084a6a-854e-4cfb-c3f6-99931b5362eb"
      },
      "execution_count": 2,
      "outputs": [
        {
          "output_type": "stream",
          "name": "stdout",
          "text": [
            "Postfix Expression: 34+5*6-\n",
            "Result: 29.0\n"
          ]
        }
      ]
    },
    {
      "cell_type": "code",
      "source": [
        "#factorial program\n",
        "def factorial(n):\n",
        "  if(n==0 or n==1):\n",
        "    return 1\n",
        "  else:\n",
        "    return n*factorial(n-1)\n",
        "n=int(input(\"Ente the number:\"))\n",
        "print(factorial(n))"
      ],
      "metadata": {
        "colab": {
          "base_uri": "https://localhost:8080/"
        },
        "id": "CGsNzNaOoOzU",
        "outputId": "cec21001-85d6-4935-808c-777ddc1a658b"
      },
      "execution_count": 3,
      "outputs": [
        {
          "output_type": "stream",
          "name": "stdout",
          "text": [
            "Ente the number:5\n",
            "120\n"
          ]
        }
      ]
    },
    {
      "cell_type": "code",
      "source": [
        "#fibonacci series solution for 0-9\n",
        "def fibonacci(n):\n",
        "  if n<=0:\n",
        "    print(\"incorrect input\")\n",
        "  elif n==1:\n",
        "    return 0\n",
        "  elif n==2:\n",
        "    return 1\n",
        "  else:\n",
        "    return fibonacci(n-1)+fibonacci(n-2)\n",
        "print(fibonacci(10))\n",
        "\n"
      ],
      "metadata": {
        "colab": {
          "base_uri": "https://localhost:8080/"
        },
        "id": "NSRU6s4mo1Zq",
        "outputId": "96b90707-b6c5-47dd-f66d-9b3b90483f07"
      },
      "execution_count": 4,
      "outputs": [
        {
          "output_type": "stream",
          "name": "stdout",
          "text": [
            "34\n"
          ]
        }
      ]
    },
    {
      "cell_type": "code",
      "source": [
        "def fibonacci(n):\n",
        "  if n<=1:\n",
        "    return n\n",
        "  else:\n",
        "    return (fibonacci(n-1)+fibonacci(n-2))\n",
        "n_terms=int(input(\"enter your valid number\"))\n",
        "\n",
        "if n_terms<=0:\n",
        "  print(\"invalid input\")\n",
        "else:\n",
        "  print(\"fibonacci series\")\n",
        "  for i in range (n_terms):\n",
        "    print(fibonacci(i))"
      ],
      "metadata": {
        "colab": {
          "base_uri": "https://localhost:8080/"
        },
        "id": "E6VZtyBAriS5",
        "outputId": "b304325c-4f69-4670-e5e8-f238ff4f0c76"
      },
      "execution_count": 5,
      "outputs": [
        {
          "output_type": "stream",
          "name": "stdout",
          "text": [
            "enter your valid number5\n",
            "fibonacci series\n",
            "0\n",
            "1\n",
            "1\n",
            "2\n",
            "3\n"
          ]
        }
      ]
    }
  ]
}