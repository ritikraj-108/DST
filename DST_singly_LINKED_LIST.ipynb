{
  "nbformat": 4,
  "nbformat_minor": 0,
  "metadata": {
    "colab": {
      "provenance": []
    },
    "kernelspec": {
      "name": "python3",
      "display_name": "Python 3"
    },
    "language_info": {
      "name": "python"
    }
  },
  "cells": [
    {
      "cell_type": "code",
      "execution_count": null,
      "metadata": {
        "id": "gZ3J2iHJWZpy"
      },
      "outputs": [],
      "source": [
        "class Node:\n",
        "  def __init__(self,data):\n",
        "    self.data=data\n",
        "    self.ref=None\n",
        "node1=Node(10)\n",
        "\n"
      ]
    },
    {
      "cell_type": "code",
      "source": [
        "class Linkedlist:\n",
        "  def __init__(self):\n",
        "    self.head=None\n",
        "  def print_ll(self):\n",
        "    if self.head is None:\n",
        "      print(\"linked list is empty\")\n",
        "    else:\n",
        "      n=self.head\n",
        "      while n is not None:\n",
        "        print(n.data,\"--> \", end=\" \")\n",
        "        n=n.ref\n",
        "\n",
        "  def add_begin(self,data):\n",
        "     new_node=Node(data)\n",
        "     new_node.ref=self.head\n",
        "     self.head=new_node\n",
        "  def add_end(self,data):\n",
        "    new_node=Node(data)\n",
        "    if self.head is None:\n",
        "      self.head=new_node\n",
        "    else:\n",
        "      n=self.head\n",
        "      while n.ref is not None:\n",
        "\n",
        "        n=n.ref\n",
        "      n.ref=new_node\n",
        "  def add_after(self,data,x):\n",
        "    n=self.head\n",
        "    while n is not None:\n",
        "\n",
        "      if x==n.data:\n",
        "\n",
        "        break\n",
        "      n=n.ref\n",
        "    if n is None:\n",
        "      print(\"node is not present in ll\")\n",
        "    else:\n",
        "      new_node=Node(data)\n",
        "      new_node.ref=n.ref\n",
        "      n.ref=new_node\n",
        "\n",
        "  def delete_begin(self):\n",
        "    if self.head is None:\n",
        "      print(\"ll is empty so we cant delete nodes\")\n",
        "    else:\n",
        "      self.head=self.head.ref\n",
        "  def delete_end(self):\n",
        "    if self.head is None:\n",
        "      print(\"ll is empty so we cannot delete nodes\")\n",
        "    else:\n",
        "      n=self.head\n",
        "      while n.ref.ref is not None:\n",
        "        n=n.ref\n",
        "      n.ref=None\n",
        "  def delete_after(self,data,x):\n",
        "    n=self.head\n",
        "\n",
        "ll1=Linkedlist()\n",
        "ll1.add_begin(10)\n",
        "ll1.add_begin(20)\n",
        "ll1.add_begin(30)\n",
        "ll1.add_begin(40)\n",
        "ll1.print_ll()\n",
        "\n",
        "ll1.add_end(100)\n",
        "ll1.print_ll()\n",
        "\n",
        "ll1.add_after(4,60)\n",
        "ll1.print_ll()\n",
        "\n",
        "ll1.delete_begin()\n",
        "ll1.print_ll()\n",
        "\n",
        "ll1.delete_end()\n",
        "ll1.print_ll()\n"
      ],
      "metadata": {
        "colab": {
          "base_uri": "https://localhost:8080/"
        },
        "id": "XWv4P6R3Zmva",
        "outputId": "5e5fd006-a1d1-4d8a-cee8-05da643b428f"
      },
      "execution_count": null,
      "outputs": [
        {
          "output_type": "stream",
          "name": "stdout",
          "text": [
            "40 -->  30 -->  20 -->  10 -->  40 -->  30 -->  20 -->  10 -->  100 -->  node is not present in ll\n",
            "40 -->  30 -->  20 -->  10 -->  100 -->  30 -->  20 -->  10 -->  100 -->  30 -->  20 -->  10 -->  "
          ]
        }
      ]
    },
    {
      "cell_type": "code",
      "source": [],
      "metadata": {
        "id": "vuoqoLoOhV_U"
      },
      "execution_count": null,
      "outputs": []
    },
    {
      "cell_type": "code",
      "source": [],
      "metadata": {
        "id": "TTUuBsVIdgJz"
      },
      "execution_count": null,
      "outputs": []
    }
  ]
}